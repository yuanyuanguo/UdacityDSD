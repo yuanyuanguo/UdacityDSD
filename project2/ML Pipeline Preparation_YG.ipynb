{
 "cells": [
  {
   "cell_type": "markdown",
   "metadata": {},
   "source": [
    "# ML Pipeline Preparation\n",
    "Follow the instructions below to help you create your ML pipeline.\n",
    "### 1. Import libraries and load data from database.\n",
    "- Import Python libraries\n",
    "- Load dataset from database with [`read_sql_table`](https://pandas.pydata.org/pandas-docs/stable/generated/pandas.read_sql_table.html)\n",
    "- Define feature and target variables X and Y"
   ]
  },
  {
   "cell_type": "code",
   "execution_count": 27,
   "metadata": {},
   "outputs": [
    {
     "name": "stdout",
     "output_type": "stream",
     "text": [
      "[nltk_data] Downloading package punkt to /root/nltk_data...\n",
      "[nltk_data]   Package punkt is already up-to-date!\n",
      "[nltk_data] Downloading package wordnet to /root/nltk_data...\n",
      "[nltk_data]   Package wordnet is already up-to-date!\n",
      "[nltk_data] Downloading package stopwords to /root/nltk_data...\n",
      "[nltk_data]   Package stopwords is already up-to-date!\n"
     ]
    },
    {
     "data": {
      "text/plain": [
       "True"
      ]
     },
     "execution_count": 27,
     "metadata": {},
     "output_type": "execute_result"
    }
   ],
   "source": [
    "# import libraries\n",
    "import pandas as pd\n",
    "import numpy as np\n",
    "import matplotlib.pyplot as plt\n",
    "import pickle\n",
    "import re\n",
    "import sqlite3\n",
    "\n",
    "import sqlalchemy\n",
    "from sqlalchemy import create_engine\n",
    "\n",
    "from sklearn import multioutput\n",
    "from sklearn.pipeline import Pipeline, FeatureUnion\n",
    "from sklearn.feature_extraction.text import CountVectorizer, TfidfTransformer, TfidfVectorizer\n",
    "from sklearn.ensemble import RandomForestClassifier\n",
    "from sklearn.multioutput import MultiOutputClassifier\n",
    "from sklearn.model_selection import train_test_split, GridSearchCV\n",
    "from sklearn.linear_model import SGDClassifier, RidgeClassifier\n",
    "from sklearn.svm import SVC\n",
    "from sklearn.metrics import classification_report, accuracy_score, fbeta_score, make_scorer, confusion_matrix\n",
    "\n",
    "import nltk\n",
    "from nltk.tokenize import word_tokenize\n",
    "from nltk.stem.porter import PorterStemmer\n",
    "from nltk.stem.wordnet import WordNetLemmatizer\n",
    "from nltk.corpus import stopwords\n",
    "nltk.download(['punkt', 'wordnet', 'stopwords'])\n"
   ]
  },
  {
   "cell_type": "code",
   "execution_count": 3,
   "metadata": {},
   "outputs": [],
   "source": [
    "# load data from database\n",
    "engine = create_engine('sqlite:///DisasterResponse_YG.db')\n",
    "df = pd.read_sql_table(\"disaster_response_messages\", con=engine)\n",
    "X = df['message']\n",
    "y = df.iloc[:, 4:]"
   ]
  },
  {
   "cell_type": "markdown",
   "metadata": {},
   "source": [
    "### 2. Write a tokenization function to process your text data"
   ]
  },
  {
   "cell_type": "code",
   "execution_count": 4,
   "metadata": {},
   "outputs": [],
   "source": [
    "def tokenize(text):\n",
    "    # normalize text\n",
    "    text = re.sub(r\"[^a-zA-Z0-9]\", \" \", text.lower())\n",
    "    # extract the word tokens\n",
    "    tokens = nltk.word_tokenize(text)\n",
    "    # Lemmanitizer\n",
    "    lemmatizer = nltk.WordNetLemmatizer()\n",
    "    # List of clean tokens\n",
    "    token_lemmed = [lemmatizer.lemmatize(w).lower().strip() for w in tokens]\n",
    "    return token_lemmed"
   ]
  },
  {
   "cell_type": "markdown",
   "metadata": {},
   "source": [
    "### 3. Build a machine learning pipeline\n",
    "This machine pipeline should take in the `message` column as input and output classification results on the other 36 categories in the dataset. You may find the [MultiOutputClassifier](http://scikit-learn.org/stable/modules/generated/sklearn.multioutput.MultiOutputClassifier.html) helpful for predicting multiple target variables."
   ]
  },
  {
   "cell_type": "code",
   "execution_count": 5,
   "metadata": {},
   "outputs": [],
   "source": [
    "pipeline = Pipeline([\n",
    "        ('vect', CountVectorizer(tokenizer=tokenize)),\n",
    "        ('tfidf', TfidfTransformer()),\n",
    "        ('clf', multioutput.MultiOutputClassifier (RandomForestClassifier()))\n",
    "        ])"
   ]
  },
  {
   "cell_type": "markdown",
   "metadata": {},
   "source": [
    "### 4. Train pipeline\n",
    "- Split data into train and test sets\n",
    "- Train pipeline"
   ]
  },
  {
   "cell_type": "code",
   "execution_count": 6,
   "metadata": {},
   "outputs": [],
   "source": [
    "#train the model\n",
    "X_train, X_test, y_train, y_test = train_test_split(X, y, random_state = 42)\n",
    "pipeline_fitted = pipeline.fit(X_train, y_train)"
   ]
  },
  {
   "cell_type": "markdown",
   "metadata": {},
   "source": [
    "### 5. Test your model\n",
    "Report the f1 score, precision and recall for each output category of the dataset. You can do this by iterating through the columns and calling sklearn's `classification_report` on each."
   ]
  },
  {
   "cell_type": "code",
   "execution_count": 16,
   "metadata": {},
   "outputs": [
    {
     "data": {
      "text/plain": [
       "related                   0.794477\n",
       "request                   0.878090\n",
       "offer                     0.996033\n",
       "aid_related               0.725664\n",
       "medical_help              0.923711\n",
       "medical_products          0.952090\n",
       "search_and_rescue         0.971926\n",
       "security                  0.981691\n",
       "military                  0.969332\n",
       "child_alone               1.000000\n",
       "water                     0.955447\n",
       "food                      0.932103\n",
       "shelter                   0.924168\n",
       "clothing                  0.985658\n",
       "money                     0.977876\n",
       "missing_people            0.988862\n",
       "refugees                  0.969484\n",
       "death                     0.958804\n",
       "other_aid                 0.870613\n",
       "infrastructure_related    0.931950\n",
       "transport                 0.959414\n",
       "buildings                 0.951633\n",
       "electricity               0.977876\n",
       "tools                     0.994507\n",
       "hospitals                 0.989167\n",
       "shops                     0.996033\n",
       "aid_centers               0.987489\n",
       "other_infrastructure      0.953616\n",
       "weather_related           0.845743\n",
       "floods                    0.942783\n",
       "storm                     0.926152\n",
       "fire                      0.989625\n",
       "earthquake                0.949802\n",
       "cold                      0.979097\n",
       "other_weather             0.950259\n",
       "direct_report             0.851694\n",
       "dtype: float64"
      ]
     },
     "execution_count": 16,
     "metadata": {},
     "output_type": "execute_result"
    }
   ],
   "source": [
    "#use mean as accuracy for that classification_report is too long and not obvious to most of people\n",
    "y_pred = pipeline.predict (X_test)\n",
    "accuracy = (y_pred == y_test).mean()\n",
    "accuracy"
   ]
  },
  {
   "cell_type": "markdown",
   "metadata": {},
   "source": [
    "### 6. Improve your model\n",
    "Use grid search to find better parameters. "
   ]
  },
  {
   "cell_type": "code",
   "execution_count": 11,
   "metadata": {},
   "outputs": [
    {
     "data": {
      "text/plain": [
       "GridSearchCV(cv=None, error_score='raise',\n",
       "       estimator=Pipeline(memory=None,\n",
       "     steps=[('vect', CountVectorizer(analyzer='word', binary=False, decode_error='strict',\n",
       "        dtype=<class 'numpy.int64'>, encoding='utf-8', input='content',\n",
       "        lowercase=True, max_df=1.0, max_features=None, min_df=1,\n",
       "        ngram_range=(1, 1), preprocessor=None, stop_words=None,\n",
       "        strip...oob_score=False, random_state=None, verbose=0,\n",
       "            warm_start=False),\n",
       "           n_jobs=1))]),\n",
       "       fit_params=None, iid=True, n_jobs=1,\n",
       "       param_grid={'clf__estimator__n_estimators': [10, 20], 'clf__estimator__min_samples_split': [2, 5]},\n",
       "       pre_dispatch='2*n_jobs', refit=True, return_train_score='warn',\n",
       "       scoring=None, verbose=0)"
      ]
     },
     "execution_count": 11,
     "metadata": {},
     "output_type": "execute_result"
    }
   ],
   "source": [
    "#try parameter searching, but too slow..\n",
    "parameters = {\n",
    "                'clf__estimator__n_estimators': [10, 20, 40],\n",
    "                'clf__estimator__min_samples_split': [2, 5]\n",
    "                'clf__estimator__learning_rate': [0.1, 0.5]\n",
    "              }\n",
    "cv = GridSearchCV (pipeline,param_grid=parameters)\n",
    "cv.fit(X_train,y_train)"
   ]
  },
  {
   "cell_type": "markdown",
   "metadata": {},
   "source": [
    "### 7. Test your model\n",
    "Show the accuracy, precision, and recall of the tuned model.  \n",
    "\n",
    "Since this project focuses on code quality, process, and  pipelines, there is no minimum performance metric needed to pass. However, make sure to fine tune your models for accuracy, precision and recall to make your project stand out - especially for your portfolio!"
   ]
  },
  {
   "cell_type": "code",
   "execution_count": 15,
   "metadata": {},
   "outputs": [
    {
     "data": {
      "text/plain": [
       "related                   0.803784\n",
       "request                   0.888007\n",
       "offer                     0.996033\n",
       "aid_related               0.745194\n",
       "medical_help              0.923558\n",
       "medical_products          0.951633\n",
       "search_and_rescue         0.971773\n",
       "security                  0.981385\n",
       "military                  0.970095\n",
       "child_alone               1.000000\n",
       "water                     0.947360\n",
       "food                      0.919439\n",
       "shelter                   0.927983\n",
       "clothing                  0.985352\n",
       "money                     0.977724\n",
       "missing_people            0.988862\n",
       "refugees                  0.968874\n",
       "death                     0.958041\n",
       "other_aid                 0.872139\n",
       "infrastructure_related    0.932713\n",
       "transport                 0.960330\n",
       "buildings                 0.952548\n",
       "electricity               0.977724\n",
       "tools                     0.994507\n",
       "hospitals                 0.989167\n",
       "shops                     0.996033\n",
       "aid_centers               0.987489\n",
       "other_infrastructure      0.953921\n",
       "weather_related           0.861001\n",
       "floods                    0.945377\n",
       "storm                     0.932255\n",
       "fire                      0.988709\n",
       "earthquake                0.966585\n",
       "cold                      0.978944\n",
       "other_weather             0.950107\n",
       "direct_report             0.854135\n",
       "dtype: float64"
      ]
     },
     "execution_count": 15,
     "metadata": {},
     "output_type": "execute_result"
    }
   ],
   "source": [
    "#as above\n",
    "y_pred_cv = cv.predict(X_test)\n",
    "accuracy = (y_pred_cv == y_test).mean()\n",
    "accuracy"
   ]
  },
  {
   "cell_type": "markdown",
   "metadata": {},
   "source": [
    "better but comparing to the time cost, not efficient!"
   ]
  },
  {
   "cell_type": "markdown",
   "metadata": {},
   "source": [
    "### 8. Try improving your model further. Here are a few ideas:\n",
    "* try other machine learning algorithms\n",
    "* add other features besides the TF-IDF"
   ]
  },
  {
   "cell_type": "code",
   "execution_count": 29,
   "metadata": {},
   "outputs": [
    {
     "data": {
      "text/plain": [
       "Pipeline(memory=None,\n",
       "     steps=[('vect', CountVectorizer(analyzer='word', binary=False, decode_error='strict',\n",
       "        dtype=<class 'numpy.int64'>, encoding='utf-8', input='content',\n",
       "        lowercase=True, max_df=1.0, max_features=None, min_df=1,\n",
       "        ngram_range=(1, 1), preprocessor=None, stop_words=None,\n",
       "        strip...=None, normalize=False, random_state=None, solver='auto',\n",
       "        tol=0.001),\n",
       "           n_jobs=1))])"
      ]
     },
     "execution_count": 29,
     "metadata": {},
     "output_type": "execute_result"
    }
   ],
   "source": [
    "# try applying RidgeClassifierCV as classifier\n",
    "new_pipeline = Pipeline([\n",
    "        ('vect', CountVectorizer(tokenizer=tokenize)),\n",
    "        ('tfidf', TfidfTransformer()),\n",
    "        ('clf', multioutput.MultiOutputClassifier (RidgeClassifier()))\n",
    "        ])\n",
    "new_pipeline.fit(X_train, y_train)\n"
   ]
  },
  {
   "cell_type": "code",
   "execution_count": 34,
   "metadata": {},
   "outputs": [
    {
     "data": {
      "text/plain": [
       "related                   0.816601\n",
       "request                   0.903113\n",
       "offer                     0.996033\n",
       "aid_related               0.774794\n",
       "medical_help              0.928288\n",
       "medical_products          0.956515\n",
       "search_and_rescue         0.973146\n",
       "security                  0.981691\n",
       "military                  0.972383\n",
       "child_alone               1.000000\n",
       "water                     0.961245\n",
       "food                      0.947208\n",
       "shelter                   0.946445\n",
       "clothing                  0.988862\n",
       "money                     0.978334\n",
       "missing_people            0.989472\n",
       "refugees                  0.970400\n",
       "death                     0.968874\n",
       "other_aid                 0.874428\n",
       "infrastructure_related    0.933628\n",
       "transport                 0.962771\n",
       "buildings                 0.962618\n",
       "electricity               0.980165\n",
       "tools                     0.994507\n",
       "hospitals                 0.989014\n",
       "shops                     0.996033\n",
       "aid_centers               0.987489\n",
       "other_infrastructure      0.953769\n",
       "weather_related           0.877937\n",
       "floods                    0.956668\n",
       "storm                     0.942325\n",
       "fire                      0.990693\n",
       "earthquake                0.969332\n",
       "cold                      0.981385\n",
       "other_weather             0.952243\n",
       "direct_report             0.871987\n",
       "dtype: float64"
      ]
     },
     "execution_count": 34,
     "metadata": {},
     "output_type": "execute_result"
    }
   ],
   "source": [
    "y_pred_ridgeCV = new_pipeline.predict (X_test)\n",
    "accuracy = (y_pred_ridgeCV == y_test).mean()\n",
    "accuracy"
   ]
  },
  {
   "cell_type": "markdown",
   "metadata": {},
   "source": [
    "Yeah, Better!"
   ]
  },
  {
   "cell_type": "markdown",
   "metadata": {},
   "source": [
    "### 9. Export your model as a pickle file"
   ]
  },
  {
   "cell_type": "code",
   "execution_count": 33,
   "metadata": {},
   "outputs": [],
   "source": [
    "pickle.dump(cv, open('model_cv.pkl', 'wb'))\n",
    "pickle.dump(new_pipeline, open('model_ridgeCV.pkl', 'wb'))"
   ]
  },
  {
   "cell_type": "markdown",
   "metadata": {},
   "source": [
    "### 10. Use this notebook to complete `train.py`\n",
    "Use the template file attached in the Resources folder to write a script that runs the steps above to create a database and export a model based on a new dataset specified by the user."
   ]
  },
  {
   "cell_type": "code",
   "execution_count": null,
   "metadata": {},
   "outputs": [],
   "source": []
  }
 ],
 "metadata": {
  "kernelspec": {
   "display_name": "Python 3",
   "language": "python",
   "name": "python3"
  },
  "language_info": {
   "codemirror_mode": {
    "name": "ipython",
    "version": 3
   },
   "file_extension": ".py",
   "mimetype": "text/x-python",
   "name": "python",
   "nbconvert_exporter": "python",
   "pygments_lexer": "ipython3",
   "version": "3.6.3"
  }
 },
 "nbformat": 4,
 "nbformat_minor": 2
}
